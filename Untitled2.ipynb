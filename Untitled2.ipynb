{
  "nbformat": 4,
  "nbformat_minor": 0,
  "metadata": {
    "colab": {
      "name": "Untitled2.ipynb",
      "provenance": [],
      "authorship_tag": "ABX9TyPkUJoTyqvUFBr2TUNag3k8",
      "include_colab_link": true
    },
    "kernelspec": {
      "name": "python3",
      "display_name": "Python 3"
    },
    "language_info": {
      "name": "python"
    }
  },
  "cells": [
    {
      "cell_type": "markdown",
      "metadata": {
        "id": "view-in-github",
        "colab_type": "text"
      },
      "source": [
        "<a href=\"https://colab.research.google.com/github/Almrg/Practica/blob/main/Untitled2.ipynb\" target=\"_parent\"><img src=\"https://colab.research.google.com/assets/colab-badge.svg\" alt=\"Open In Colab\"/></a>"
      ]
    },
    {
      "cell_type": "code",
      "execution_count": 2,
      "metadata": {
        "colab": {
          "base_uri": "https://localhost:8080/"
        },
        "id": "CblsN4nWJWm4",
        "outputId": "1e93d48c-43e1-47dc-d5b8-61b5075c0674"
      },
      "outputs": [
        {
          "output_type": "stream",
          "name": "stdout",
          "text": [
            "Escribe la tabla1\n",
            "1 1X  1 = 1\n",
            "1 1X  2 = 2\n",
            "1 1X  3 = 3\n",
            "1 1X  4 = 4\n",
            "1 1X  5 = 5\n",
            "1 1X  6 = 6\n",
            "1 1X  7 = 7\n",
            "1 1X  8 = 8\n",
            "1 1X  9 = 9\n",
            "1 1X  10 = 10\n"
          ]
        }
      ],
      "source": [
        "i=1\n",
        "m= int (input (\"Escribe la tabla\"))\n",
        "while (i!=11):\n",
        " print(m,\"1X \",i,\"=\",m*i)\n",
        " i=i+1\n"
      ]
    },
    {
      "cell_type": "markdown",
      "source": [
        " Elaborado por Alma Eufemia Ramirez Gomez 23/08/22"
      ],
      "metadata": {
        "id": "1s47A-CkJXtA"
      }
    }
  ]
}