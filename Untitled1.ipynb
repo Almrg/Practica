{
  "nbformat": 4,
  "nbformat_minor": 0,
  "metadata": {
    "colab": {
      "name": "Untitled1.ipynb",
      "provenance": [],
      "authorship_tag": "ABX9TyPFKBIGH1Q4UIl1+6g9QVl/",
      "include_colab_link": true
    },
    "kernelspec": {
      "name": "python3",
      "display_name": "Python 3"
    },
    "language_info": {
      "name": "python"
    }
  },
  "cells": [
    {
      "cell_type": "markdown",
      "metadata": {
        "id": "view-in-github",
        "colab_type": "text"
      },
      "source": [
        "<a href=\"https://colab.research.google.com/github/Almrg/Practica/blob/main/Untitled1.ipynb\" target=\"_parent\"><img src=\"https://colab.research.google.com/assets/colab-badge.svg\" alt=\"Open In Colab\"/></a>"
      ]
    },
    {
      "cell_type": "markdown",
      "source": [
        "Pedir un numero y imprimimos tabla de multiplicar de ese numero Elaborado por Alma Eufemia Ramirez Gomez 23/08/22"
      ],
      "metadata": {
        "id": "87-nCGXBE3RJ"
      }
    },
    {
      "cell_type": "markdown",
      "source": [
        ""
      ],
      "metadata": {
        "id": "ja2GzBI7HhQz"
      }
    },
    {
      "cell_type": "code",
      "execution_count": 3,
      "metadata": {
        "colab": {
          "base_uri": "https://localhost:8080/"
        },
        "id": "_iXI4-8HEzdZ",
        "outputId": "c8a44681-57e1-4a45-e048-c0dcd05cff37"
      },
      "outputs": [
        {
          "output_type": "stream",
          "name": "stdout",
          "text": [
            "Escribe un numero de 1 al 102\n",
            "1 1X  2 = 2\n",
            "2 1X  2 = 4\n",
            "3 1X  2 = 6\n",
            "4 1X  2 = 8\n",
            "5 1X  2 = 10\n",
            "6 1X  2 = 12\n",
            "7 1X  2 = 14\n",
            "8 1X  2 = 16\n",
            "9 1X  2 = 18\n",
            "10 1X  2 = 20\n"
          ]
        }
      ],
      "source": [
        "i= int(input(\"Escribe un numero de 1 al 10\"))\n",
        "for n in range(1, 11):\n",
        "  print(n,\"1X \",i,\"=\",n*i)"
      ]
    },
    {
      "cell_type": "code",
      "source": [
        ""
      ],
      "metadata": {
        "id": "UJBqFo1AFm9q"
      },
      "execution_count": null,
      "outputs": []
    }
  ]
}