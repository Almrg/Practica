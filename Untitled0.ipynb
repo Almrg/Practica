{
  "nbformat": 4,
  "nbformat_minor": 0,
  "metadata": {
    "colab": {
      "name": "Untitled0.ipynb",
      "provenance": [],
      "authorship_tag": "ABX9TyM6nLFdUM7a6Hcv+vEQ9pC6",
      "include_colab_link": true
    },
    "kernelspec": {
      "name": "python3",
      "display_name": "Python 3"
    },
    "language_info": {
      "name": "python"
    }
  },
  "cells": [
    {
      "cell_type": "markdown",
      "metadata": {
        "id": "view-in-github",
        "colab_type": "text"
      },
      "source": [
        "<a href=\"https://colab.research.google.com/github/Almrg/Practica/blob/main/Untitled0.ipynb\" target=\"_parent\"><img src=\"https://colab.research.google.com/assets/colab-badge.svg\" alt=\"Open In Colab\"/></a>"
      ]
    },
    {
      "cell_type": "markdown",
      "source": [
        "Primer programa de Hola Mundo\n",
        "\n",
        "## Solicitamos el nombre del usuario, y lo saludamos Elaborado por Alma Eufemia Ramirez Gomez 23/08/22"
      ],
      "metadata": {
        "id": "dlTQZglk-_1d"
      }
    },
    {
      "cell_type": "code",
      "source": [
        "nombreAlumno = input(\"Escribe tu nombre\") \n",
        "print(\"Hola \",nombreAlumno,\" Hola, Como estas\")"
      ],
      "metadata": {
        "colab": {
          "base_uri": "https://localhost:8080/"
        },
        "id": "gURCow0s_q0V",
        "outputId": "cbc26b75-f350-47ca-a5b6-e7f17459a302"
      },
      "execution_count": 2,
      "outputs": [
        {
          "output_type": "stream",
          "name": "stdout",
          "text": [
            "Escribe tu nombreAlma\n",
            "Hola  Alma  Hola, Como estas\n"
          ]
        }
      ]
    }
  ]
}