{
  "nbformat": 4,
  "nbformat_minor": 0,
  "metadata": {
    "colab": {
      "name": "Untitled5.ipynb",
      "provenance": [],
      "authorship_tag": "ABX9TyOaCVURFuRsVSzpPGE5APrZ",
      "include_colab_link": true
    },
    "kernelspec": {
      "name": "python3",
      "display_name": "Python 3"
    },
    "language_info": {
      "name": "python"
    }
  },
  "cells": [
    {
      "cell_type": "markdown",
      "metadata": {
        "id": "view-in-github",
        "colab_type": "text"
      },
      "source": [
        "<a href=\"https://colab.research.google.com/github/Almrg/Practica/blob/main/Untitled5.ipynb\" target=\"_parent\"><img src=\"https://colab.research.google.com/assets/colab-badge.svg\" alt=\"Open In Colab\"/></a>"
      ]
    },
    {
      "cell_type": "markdown",
      "source": [
        "Ingresar un texto pasar a arreglo y encuentre la palabra esta.\n",
        "**Elaborado por Alma Eufemia Ramirez Gomez 25/08/22**"
      ],
      "metadata": {
        "id": "U8h4a7okNJHe"
      }
    },
    {
      "cell_type": "code",
      "source": [
        "text= input(\"Escribe\")\n",
        "arreglo =text.split()\n",
        "palabras =input(\"ingresar la palabra a buscar: \")\n",
        "contador= text.count(palabras)\n",
        "print(contador)\n",
        "print(\"Tamaño del arreglo: \", Ien(arreglo))"
      ],
      "metadata": {
        "id": "jw-H069ShScu"
      },
      "execution_count": null,
      "outputs": []
    }
  ]
}