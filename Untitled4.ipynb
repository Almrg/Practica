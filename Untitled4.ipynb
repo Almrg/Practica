{
  "nbformat": 4,
  "nbformat_minor": 0,
  "metadata": {
    "colab": {
      "name": "Untitled4.ipynb",
      "provenance": [],
      "authorship_tag": "ABX9TyPTn8I0G7HWRsyJz+/SlL89",
      "include_colab_link": true
    },
    "kernelspec": {
      "name": "python3",
      "display_name": "Python 3"
    },
    "language_info": {
      "name": "python"
    }
  },
  "cells": [
    {
      "cell_type": "markdown",
      "metadata": {
        "id": "view-in-github",
        "colab_type": "text"
      },
      "source": [
        "<a href=\"https://colab.research.google.com/github/Almrg/Practica/blob/main/Untitled4.ipynb\" target=\"_parent\"><img src=\"https://colab.research.google.com/assets/colab-badge.svg\" alt=\"Open In Colab\"/></a>"
      ]
    },
    {
      "cell_type": "markdown",
      "source": [
        "Programa calculando el area de la figuras geometricas de Rectangulo, Triangulo, Trapecio y Circulo con menu. \n",
        "**Elaborado por Alma Eufemia Ramirez Gomez 24/08/22**"
      ],
      "metadata": {
        "id": "W_WwkcGvEtmD"
      }
    },
    {
      "cell_type": "code",
      "execution_count": 11,
      "metadata": {
        "colab": {
          "base_uri": "https://localhost:8080/"
        },
        "id": "3yb2e4JkEsXc",
        "outputId": "116ca98f-b48a-4bf0-f494-40e1f4bee8d3"
      },
      "outputs": [
        {
          "output_type": "stream",
          "name": "stdout",
          "text": [
            "Calcular Áreas de figuras Geométricas.\n",
            "\n",
            "1.Cuadrado.\n",
            "2.Circulo.\n",
            "3.Triángulo.\n",
            "4.Trapecio.\n",
            "5.Rectángulo.\n",
            ".\n",
            "\n",
            "Area de triángulo: \n",
            "4.0\n",
            "Area de rectángulo: \n",
            "16\n",
            "Area de círculo: \n",
            "153.93804002589985\n"
          ]
        }
      ],
      "source": [
        "import math\n",
        "\n",
        "print(\"Calcular Áreas de figuras Geométricas.\\n\")\n",
        "print(\"1.Cuadrado.\\n2.Circulo.\\n3.Triángulo.\\n4.Trapecio.\\n5.Rectángulo.\\n.\\n\")\n",
        "\n",
        "def area_triangulo(base, altura):\n",
        "    return base * altura / 2\n",
        "\n",
        "\n",
        "def area_rectangulo(base, altura):\n",
        "    return base * altura\n",
        "\n",
        "\n",
        "def area_rombo(diagonal1, diagonal2):\n",
        "    return (diagonal1 * diagonal2) / 2\n",
        "\n",
        "\n",
        "def area_circulo(radio):\n",
        "    return math.pi * radio ** 2\n",
        "\n",
        "##def area_trapecio(B,b,h):\n",
        "\n",
        "  ##  return  ((B+b)*h)/2\n",
        "\n",
        "\n",
        "\n",
        "\n",
        "print(\"Area de triángulo: \")\n",
        "print(area_triangulo(2, 4))\n",
        "\n",
        "print(\"Area de rectángulo: \")\n",
        "print(area_rectangulo(8, 2))\n",
        "\n",
        "##print(\"Area de trapecio: \")\n",
        "##print(area_trapecio(5,6))\n",
        "#def area_trapecio(B,b,h):\n",
        "\n",
        " \n",
        " ##   area=(B+b)*h/2\n",
        "   ## return print('El area del Trapecio es: ', area)\n",
        "\n",
        "\n",
        "print(\"Area de círculo: \")\n",
        "print(area_circulo(7))"
      ]
    }
  ]
}